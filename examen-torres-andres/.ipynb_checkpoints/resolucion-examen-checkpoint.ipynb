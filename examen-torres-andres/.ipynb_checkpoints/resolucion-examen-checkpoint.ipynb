{
 "cells": [
  {
   "cell_type": "markdown",
   "metadata": {},
   "source": [
    "# Resolución del exámen del primer parcial"
   ]
  },
  {
   "cell_type": "markdown",
   "metadata": {},
   "source": [
    "## 1) Examen"
   ]
  },
  {
   "cell_type": "code",
   "execution_count": 1,
   "metadata": {},
   "outputs": [],
   "source": [
    "import pandas as pd \n",
    "import numpy as np\n",
    "from scipy import misc\n",
    "import matplotlib.pyplot as plt"
   ]
  },
  {
   "cell_type": "markdown",
   "metadata": {},
   "source": [
    "## 2) Crear un vector de ceros de tamaño 10"
   ]
  },
  {
   "cell_type": "code",
   "execution_count": 4,
   "metadata": {},
   "outputs": [
    {
     "name": "stdout",
     "output_type": "stream",
     "text": [
      "[0. 0. 0. 0. 0. 0. 0. 0. 0. 0.]\n"
     ]
    }
   ],
   "source": [
    "vector_ceros = np.zeros(10)\n",
    "\n",
    "print(vector_ceros)"
   ]
  },
  {
   "cell_type": "markdown",
   "metadata": {},
   "source": [
    "## 3) Crear un vector de ceros de tamaño 10 y el de la posicion 5 sea igual a 1"
   ]
  },
  {
   "cell_type": "code",
   "execution_count": 5,
   "metadata": {},
   "outputs": [
    {
     "name": "stdout",
     "output_type": "stream",
     "text": [
      "[0. 0. 0. 0. 0. 1. 0. 0. 0. 0.]\n"
     ]
    }
   ],
   "source": [
    "nuevo_vector_ceros = np.zeros(10)\n",
    "nuevo_vector_ceros[5] = 1\n",
    "\n",
    "print(nuevo_vector_ceros)"
   ]
  },
  {
   "cell_type": "markdown",
   "metadata": {},
   "source": [
    "## 4) Cambiar el orden de un vector de 50 elementos, el de la posicion 1 es el de la 50 etc."
   ]
  },
  {
   "cell_type": "code",
   "execution_count": 8,
   "metadata": {},
   "outputs": [
    {
     "name": "stdout",
     "output_type": "stream",
     "text": [
      "[0.53437885 0.96711858 0.43716364 0.42932618 0.9446467  0.18380281\n",
      " 0.87094384 0.80174087 0.59999632 0.6297735  0.28575274 0.17804182\n",
      " 0.12180091 0.79897604 0.5651711  0.06988257 0.32626302 0.36986852\n",
      " 0.16423872 0.87991482 0.91681838 0.14700638 0.15472456 0.71007393\n",
      " 0.35734381 0.64202584 0.35256038 0.75415757 0.64615261 0.57220481\n",
      " 0.1624349  0.29877498 0.91008883 0.77262543 0.06201927 0.70546631\n",
      " 0.31452091 0.51567657 0.09828912 0.47495937 0.75118987 0.73873472\n",
      " 0.42528203 0.97153405 0.1409663  0.34369382 0.56978994 0.64228254\n",
      " 0.34084369 0.27128831]\n"
     ]
    }
   ],
   "source": [
    "vector_elementos = np.random.rand(50)\n",
    "\n",
    "vector_elementos_reordenados = vector_elementos[::1]\n",
    "\n",
    "print(vector_elementos_reordenados)"
   ]
  },
  {
   "cell_type": "markdown",
   "metadata": {},
   "source": [
    "## 5) Crear una matriz de 3 x 3 con valores del cero al 8"
   ]
  },
  {
   "cell_type": "code",
   "execution_count": 9,
   "metadata": {},
   "outputs": [
    {
     "name": "stdout",
     "output_type": "stream",
     "text": [
      "[[0 1 2]\n",
      " [3 4 5]\n",
      " [6 7 8]]\n"
     ]
    }
   ],
   "source": [
    "matriz = np.array(range(9))\n",
    "matriz = matriz.reshape(3, 3)\n",
    "\n",
    "print(matriz)"
   ]
  },
  {
   "cell_type": "markdown",
   "metadata": {},
   "source": [
    "## 6) Encontrar los indices que no sean cero en un arreglo"
   ]
  },
  {
   "cell_type": "code",
   "execution_count": 25,
   "metadata": {},
   "outputs": [
    {
     "name": "stdout",
     "output_type": "stream",
     "text": [
      "(array([0, 1, 4]),)\n"
     ]
    }
   ],
   "source": [
    "arreglo = np.array([1,2,0,0,4,0])\n",
    "\n",
    "indices_distintos_cero = np.where(arreglo != 0)\n",
    "\n",
    "print(indices_distintos_cero)"
   ]
  },
  {
   "cell_type": "markdown",
   "metadata": {},
   "source": [
    "## 7) Crear una matriz de identidad 3 x 3"
   ]
  },
  {
   "cell_type": "code",
   "execution_count": 13,
   "metadata": {},
   "outputs": [
    {
     "name": "stdout",
     "output_type": "stream",
     "text": [
      "[[1. 0. 0.]\n",
      " [0. 1. 0.]\n",
      " [0. 0. 1.]]\n"
     ]
    }
   ],
   "source": [
    "matriz_identidad = np.identity(3)\n",
    "\n",
    "print(matriz_identidad)"
   ]
  },
  {
   "cell_type": "markdown",
   "metadata": {},
   "source": [
    "## 8) Crear una matriz 3 x 3 x 3 con valores randomicos"
   ]
  },
  {
   "cell_type": "code",
   "execution_count": 15,
   "metadata": {},
   "outputs": [
    {
     "name": "stdout",
     "output_type": "stream",
     "text": [
      "[[[0.32829418 0.06089593 0.91846883]\n",
      "  [0.12472149 0.90311809 0.8161246 ]\n",
      "  [0.49354167 0.05775689 0.58656724]]\n",
      "\n",
      " [[0.67359658 0.947437   0.40697312]\n",
      "  [0.14087448 0.635958   0.52595831]\n",
      "  [0.67903266 0.26333434 0.22465925]]\n",
      "\n",
      " [[0.93747865 0.7112934  0.31040894]\n",
      "  [0.68013333 0.84351095 0.97594053]\n",
      "  [0.08236952 0.7474134  0.7145265 ]]]\n"
     ]
    }
   ],
   "source": [
    "matriz_randomica = np.random.rand(3, 3, 3)\n",
    "\n",
    "print(matriz_randomica)"
   ]
  },
  {
   "cell_type": "markdown",
   "metadata": {},
   "source": [
    "## 9) Crear una matriz 10 x 10 y encontrar el mayor y el menor"
   ]
  },
  {
   "cell_type": "code",
   "execution_count": 24,
   "metadata": {},
   "outputs": [
    {
     "name": "stdout",
     "output_type": "stream",
     "text": [
      "La matriz es: [[0.27788469 0.70140129 0.53384842 0.72151148 0.75837311 0.52468991\n",
      "  0.58572112 0.79904932 0.38236546 0.00458113]\n",
      " [0.14861041 0.08365354 0.14853715 0.39690444 0.02376795 0.74279233\n",
      "  0.44071569 0.63470283 0.93126619 0.62057822]\n",
      " [0.07793389 0.80493207 0.17895536 0.09370889 0.93857334 0.656619\n",
      "  0.03651342 0.77070344 0.31452157 0.94348317]\n",
      " [0.99299484 0.26974996 0.82842435 0.35448171 0.58691954 0.33581528\n",
      "  0.24847553 0.4481883  0.92970142 0.76162226]\n",
      " [0.51262054 0.04811123 0.30911973 0.2638927  0.25620194 0.94172049\n",
      "  0.85140126 0.28053263 0.01056878 0.39757625]\n",
      " [0.1295972  0.14124444 0.44233099 0.01703024 0.09973711 0.2034448\n",
      "  0.21491099 0.42841317 0.71620671 0.79037194]\n",
      " [0.24233237 0.27292961 0.32089253 0.78175874 0.87738248 0.02619613\n",
      "  0.79385129 0.42185099 0.59734205 0.87759028]\n",
      " [0.09811907 0.88912833 0.9687162  0.87430543 0.15573992 0.73518772\n",
      "  0.87752332 0.78843898 0.69214656 0.51268345]\n",
      " [0.19141691 0.23208473 0.30283839 0.2676732  0.53642428 0.94160322\n",
      "  0.06115824 0.52513013 0.08301122 0.47134115]\n",
      " [0.9222505  0.10495431 0.5254688  0.46981469 0.67018529 0.9006881\n",
      "  0.88083919 0.13383078 0.37870325 0.21023539]]\n",
      "\n",
      "Su elemento mayor es 0.9929948357270121 y su elemento menor es 0.0045811250431636585\n"
     ]
    }
   ],
   "source": [
    "matriz = np.random.rand(10, 10)\n",
    "\n",
    "mayor = matriz.max()\n",
    "menor = matriz.min()\n",
    "\n",
    "print(\"La matriz es:\", matriz)\n",
    "print(f\"\\nSu elemento mayor es {mayor} y su elemento menor es {menor}\")"
   ]
  },
  {
   "cell_type": "markdown",
   "metadata": {},
   "source": [
    "## 10) Sacar los colores RGB unicos en una imagen (cuales rgb existen ej: 0, 0, 0 - 255,255,255 -> 2 colores)"
   ]
  },
  {
   "cell_type": "code",
   "execution_count": 98,
   "metadata": {},
   "outputs": [
    {
     "name": "stdout",
     "output_type": "stream",
     "text": [
      "El color negro es 121\n"
     ]
    }
   ],
   "source": [
    "mapache = misc.face()\n",
    "\n",
    "color_negro = mapache.item(0, 0, 0)\n",
    "# color_blanco = mapache.item(255, 255, 255)\n",
    "\n",
    "print(f\"El color negro es {color_negro}\")"
   ]
  },
  {
   "cell_type": "markdown",
   "metadata": {},
   "source": [
    "## 11) ¿Como crear una serie de una lista, diccionario o arreglo?"
   ]
  },
  {
   "cell_type": "code",
   "execution_count": 31,
   "metadata": {},
   "outputs": [
    {
     "name": "stdout",
     "output_type": "stream",
     "text": [
      "Las series son:\n",
      "Serie de una lista:\n",
      "0     a\n",
      "1     b\n",
      "2     c\n",
      "3     e\n",
      "4     d\n",
      "5     f\n",
      "6     g\n",
      "7     h\n",
      "8     i\n",
      "9     j\n",
      "10    k\n",
      "11    l\n",
      "12    m\n",
      "13    n\n",
      "14    o\n",
      "15    p\n",
      "16    q\n",
      "17    r\n",
      "18    s\n",
      "19    t\n",
      "20    u\n",
      "21    v\n",
      "22    w\n",
      "23    x\n",
      "24    y\n",
      "25    z\n",
      "dtype: object\n",
      "Serie de un arreglo:\n",
      "0      0\n",
      "1      1\n",
      "2      2\n",
      "3      3\n",
      "4      4\n",
      "5      5\n",
      "6      6\n",
      "7      7\n",
      "8      8\n",
      "9      9\n",
      "10    10\n",
      "11    11\n",
      "12    12\n",
      "13    13\n",
      "14    14\n",
      "15    15\n",
      "16    16\n",
      "17    17\n",
      "18    18\n",
      "19    19\n",
      "20    20\n",
      "21    21\n",
      "22    22\n",
      "23    23\n",
      "24    24\n",
      "25    25\n",
      "dtype: int64\n",
      "Serie de un diccionario:\n",
      "a     0\n",
      "b     1\n",
      "c     2\n",
      "e     3\n",
      "d     4\n",
      "f     5\n",
      "g     6\n",
      "h     7\n",
      "i     8\n",
      "j     9\n",
      "k    10\n",
      "l    11\n",
      "m    12\n",
      "n    13\n",
      "o    14\n",
      "p    15\n",
      "q    16\n",
      "r    17\n",
      "s    18\n",
      "t    19\n",
      "u    20\n",
      "v    21\n",
      "w    22\n",
      "x    23\n",
      "y    24\n",
      "z    25\n",
      "dtype: int64\n"
     ]
    }
   ],
   "source": [
    "mylist = list('abcedfghijklmnopqrstuvwxyz')\n",
    "myarr = np.arange(26)\n",
    "mydict = dict(zip(mylist, myarr))\n",
    "\n",
    "serie_lista = pd.Series(mylist)\n",
    "serie_arreglo = pd.Series(myarr)\n",
    "serie_diccionario = pd.Series(mydict)\n",
    "\n",
    "print(f\"Las series son:\\nSerie de una lista:\\n{serie_lista}\\nSerie de un arreglo:\\n{serie_arreglo}\\nSerie de un diccionario:\\n{serie_diccionario}\")"
   ]
  },
  {
   "cell_type": "markdown",
   "metadata": {},
   "source": [
    "## 12) ¿Como convertir el indice de una serie en una columna de un DataFrame?"
   ]
  },
  {
   "cell_type": "code",
   "execution_count": 96,
   "metadata": {},
   "outputs": [
    {
     "name": "stdout",
     "output_type": "stream",
     "text": [
      "    0\n",
      "a   0\n",
      "b   1\n",
      "c   2\n",
      "e   3\n",
      "d   4\n",
      "f   5\n",
      "g   6\n",
      "h   7\n",
      "i   8\n",
      "j   9\n",
      "k  10\n",
      "l  11\n",
      "m  12\n",
      "n  13\n",
      "o  14\n",
      "p  15\n",
      "q  16\n",
      "r  17\n",
      "s  18\n",
      "t  19\n",
      "u  20\n",
      "v  21\n",
      "w  22\n",
      "x  23\n",
      "y  24\n",
      "z  25\n"
     ]
    }
   ],
   "source": [
    "mylist = list('abcedfghijklmnopqrstuvwxyz')\n",
    "myarr = np.arange(26)\n",
    "mydict = dict(zip(mylist, myarr))\n",
    "ser = pd.Series(mydict) \n",
    "# Transformar la serie en dataframe y hacer una columna indice\n",
    "df_serie = pd.DataFrame(ser)\n",
    "\n",
    "print(df_serie)"
   ]
  },
  {
   "cell_type": "markdown",
   "metadata": {},
   "source": [
    "## 13) ¿Como combinar varias series para hacer un DataFrame?"
   ]
  },
  {
   "cell_type": "code",
   "execution_count": 47,
   "metadata": {},
   "outputs": [
    {
     "name": "stdout",
     "output_type": "stream",
     "text": [
      "   ser1  ser2\n",
      "0     a     0\n",
      "1     b     1\n",
      "2     c     2\n",
      "3     e     3\n",
      "4     d     4\n",
      "5     f     5\n",
      "6     g     6\n",
      "7     h     7\n",
      "8     i     8\n",
      "9     j     9\n",
      "10    k    10\n",
      "11    l    11\n",
      "12    m    12\n",
      "13    n    13\n",
      "14    o    14\n",
      "15    p    15\n",
      "16    q    16\n",
      "17    r    17\n",
      "18    s    18\n",
      "19    t    19\n",
      "20    u    20\n",
      "21    v    21\n",
      "22    w    22\n",
      "23    x    23\n",
      "24    y    24\n",
      "25    z    25\n"
     ]
    }
   ],
   "source": [
    "import numpy as np\n",
    "ser1 = pd.Series(list('abcedfghijklmnopqrstuvwxyz'))\n",
    "ser2 = pd.Series(np.arange(26))\n",
    "\n",
    "df_combinado = pd.DataFrame({'ser1': ser1, 'ser2': ser2})\n",
    "\n",
    "print(df_combinado)"
   ]
  },
  {
   "cell_type": "markdown",
   "metadata": {},
   "source": [
    "## 14) ¿Como obtener los items que esten en una serie A y no en una serie B?"
   ]
  },
  {
   "cell_type": "code",
   "execution_count": 70,
   "metadata": {},
   "outputs": [
    {
     "name": "stdout",
     "output_type": "stream",
     "text": [
      "Los items que estan en una serie A pero no en una serie B son:\n",
      "0    1\n",
      "1    2\n",
      "2    3\n",
      "dtype: int64\n"
     ]
    }
   ],
   "source": [
    "ser1 = pd.Series([1, 2, 3, 4, 5])\n",
    "ser2 = pd.Series([4, 5, 6, 7, 8])\n",
    "\n",
    "items = ser1[~ser1.isin(ser2)]\n",
    "\n",
    "print(f\"Los items que estan en una serie A pero no en una serie B son:\\n{items}\")"
   ]
  },
  {
   "cell_type": "markdown",
   "metadata": {},
   "source": [
    "## 15) ¿Como obtener los items que no son comunes en una serie A y serie B?"
   ]
  },
  {
   "cell_type": "code",
   "execution_count": 79,
   "metadata": {},
   "outputs": [
    {
     "name": "stdout",
     "output_type": "stream",
     "text": [
      "Los items no comunes en ambas series son:\n",
      "0    1\n",
      "1    2\n",
      "2    3\n",
      "2    6\n",
      "3    7\n",
      "4    8\n",
      "dtype: int64\n"
     ]
    }
   ],
   "source": [
    "ser1 = pd.Series([1, 2, 3, 4, 5])\n",
    "ser2 = pd.Series([4, 5, 6, 7, 8])\n",
    "\n",
    "items_no_comunes_A = ser1[~ser1.isin(ser2)]\n",
    "items_no_comunes_B = ser2[~ser2.isin(ser1)]\n",
    "items_no_comunes = pd.concat([items_no_comunes_A, items_no_comunes_B])\n",
    "\n",
    "print(f\"Los items no comunes en ambas series son:\\n{items_no_comunes}\")"
   ]
  },
  {
   "cell_type": "markdown",
   "metadata": {},
   "source": [
    "## 16) ¿Como obtener el numero de veces que se repite un valor en una serie?"
   ]
  },
  {
   "cell_type": "code",
   "execution_count": 72,
   "metadata": {},
   "outputs": [
    {
     "name": "stdout",
     "output_type": "stream",
     "text": [
      "El númer0 de veces que se repite el mismo valor en la serie son:n\n",
      "d    7\n",
      "c    6\n",
      "a    6\n",
      "b    3\n",
      "e    3\n",
      "h    2\n",
      "g    2\n",
      "f    1\n",
      "dtype: int64\n"
     ]
    }
   ],
   "source": [
    "ser = pd.Series(np.take(list('abcdefgh'), np.random.randint(8, size=30)))\n",
    "\n",
    "numero_valor_repetido = ser.value_counts()\n",
    "\n",
    "print(f\"El númer0 de veces que se repite el mismo valor en la serie son:n\\n{numero_valor_repetido}\")"
   ]
  },
  {
   "cell_type": "markdown",
   "metadata": {},
   "source": [
    "## 17) ¿Como mantener los 2 valores mas repetidos de una serie, y a los demas valores cambiarles por 0 ?"
   ]
  },
  {
   "cell_type": "code",
   "execution_count": 81,
   "metadata": {},
   "outputs": [
    {
     "name": "stdout",
     "output_type": "stream",
     "text": [
      "3    7\n",
      "4    2\n",
      "1    0\n",
      "2    0\n",
      "dtype: int64\n"
     ]
    }
   ],
   "source": [
    "np.random.RandomState(100)\n",
    "ser = pd.Series(np.random.randint(1, 5, [12]))\n",
    "\n",
    "valores_repetidos = ser.value_counts()\n",
    "valores_repetidos[2:] = 0\n",
    "\n",
    "print(valores_repetidos)"
   ]
  },
  {
   "cell_type": "markdown",
   "metadata": {},
   "source": [
    "## 18) ¿Como transformar una serie de un arreglo de numpy a un DataFrame con un shape definido?"
   ]
  },
  {
   "cell_type": "code",
   "execution_count": 85,
   "metadata": {},
   "outputs": [
    {
     "name": "stdout",
     "output_type": "stream",
     "text": [
      "Serie transformada a dataframe:\n",
      "   0  1  2  3  4\n",
      "0  1  3  9  7  3\n",
      "1  7  6  5  5  8\n",
      "2  7  2  7  4  3\n",
      "3  1  9  3  1  1\n",
      "4  1  7  1  6  1\n",
      "5  7  6  2  7  3\n",
      "6  6  8  9  6  5\n"
     ]
    }
   ],
   "source": [
    "ser = pd.Series(np.random.randint(1, 10, 35))\n",
    "# shape(7,5)\n",
    "\n",
    "df_ser = pd.DataFrame(ser.values.reshape(7, 5))\n",
    "\n",
    "print(f\"Serie transformada a dataframe:\\n{df_ser}\")"
   ]
  },
  {
   "cell_type": "markdown",
   "metadata": {},
   "source": [
    "## 19) ¿Obtener los valores de una serie conociendo la posicion por indice?"
   ]
  },
  {
   "cell_type": "code",
   "execution_count": 89,
   "metadata": {},
   "outputs": [
    {
     "name": "stdout",
     "output_type": "stream",
     "text": [
      "0     a\n",
      "4     e\n",
      "8     i\n",
      "14    o\n",
      "20    u\n",
      "dtype: object\n"
     ]
    }
   ],
   "source": [
    "ser = pd.Series(list('abcdefghijklmnopqrstuvwxyz'))\n",
    "pos = [0, 4, 8, 14, 20]\n",
    "# a e i o u\n",
    "    \n",
    "print(ser[pos])"
   ]
  },
  {
   "cell_type": "markdown",
   "metadata": {},
   "source": [
    "## 20) ¿Como anadir series vertical u horizontalmente a un DataFrame?"
   ]
  },
  {
   "cell_type": "code",
   "execution_count": 90,
   "metadata": {},
   "outputs": [],
   "source": [
    "ser1 = pd.Series(range(5))\n",
    "ser2 = pd.Series(list('abcde'))"
   ]
  },
  {
   "cell_type": "markdown",
   "metadata": {},
   "source": [
    "## 21)¿Obtener la media de una serie agrupada por otra serie?"
   ]
  },
  {
   "cell_type": "code",
   "execution_count": 97,
   "metadata": {},
   "outputs": [
    {
     "name": "stdout",
     "output_type": "stream",
     "text": [
      "[1.0, 2.0, 3.0, 4.0, 5.0, 6.0, 7.0, 8.0, 9.0, 10.0]\n",
      "['manzana', 'banana', 'zanahoria', 'zanahoria', 'manzana', 'banana', 'banana', 'zanahoria', 'zanahoria', 'zanahoria']\n"
     ]
    }
   ],
   "source": [
    "frutas = pd.Series(np.random.choice(['manzana', 'banana', 'zanahoria'], 10))\n",
    "pesos = pd.Series(np.linspace(1, 10, 10))\n",
    "print(pesos.tolist())\n",
    "print(frutas.tolist())\n",
    "#> [1.0, 2.0, 3.0, 4.0, 5.0, 6.0, 7.0, 8.0, 9.0, 10.0]\n",
    "#> ['banana', 'carrot', 'apple', 'carrot', 'carrot', 'apple', 'banana', 'carrot', 'apple', 'carrot']\n",
    "\n",
    "# Los valores van a cambiar por ser random\n",
    "# apple     6.0\n",
    "# banana    4.0\n",
    "# carrot    5.8\n",
    "# dtype: float64"
   ]
  },
  {
   "cell_type": "markdown",
   "metadata": {},
   "source": [
    "## 22)¿Como importar solo columnas especificas de un archivo csv?"
   ]
  },
  {
   "cell_type": "code",
   "execution_count": 95,
   "metadata": {},
   "outputs": [
    {
     "name": "stdout",
     "output_type": "stream",
     "text": [
      "Los primeros registros del archivo por las columnas seleccionadas 'age' y 'ptratio' son:\n",
      "    age  ptratio\n",
      "0  65.2     15.3\n",
      "1  78.9     17.8\n",
      "2  61.1     17.8\n",
      "3  45.8     18.7\n",
      "4  54.2     18.7\n"
     ]
    }
   ],
   "source": [
    "archivo = pd.read_csv(\"https://raw.githubusercontent.com/selva86/datasets/master/BostonHousing.csv\", usecols=['age', 'ptratio']).head(5)\n",
    "\n",
    "print(f\"Los primeros registros del archivo por las columnas seleccionadas 'age' y 'ptratio' son:\\n{archivo}\")"
   ]
  },
  {
   "cell_type": "code",
   "execution_count": null,
   "metadata": {},
   "outputs": [],
   "source": []
  }
 ],
 "metadata": {
  "kernelspec": {
   "display_name": "Python 3",
   "language": "python",
   "name": "python3"
  },
  "language_info": {
   "codemirror_mode": {
    "name": "ipython",
    "version": 3
   },
   "file_extension": ".py",
   "mimetype": "text/x-python",
   "name": "python",
   "nbconvert_exporter": "python",
   "pygments_lexer": "ipython3",
   "version": "3.7.1"
  }
 },
 "nbformat": 4,
 "nbformat_minor": 2
}
